{
 "cells": [
  {
   "cell_type": "markdown",
   "id": "96d0c4fd",
   "metadata": {},
   "source": [
    "Problem: You are given data from an audiobook app. Each customer in the database has made a purchase at least once in 2 years. We want to create a machine learning algorithm based on our data that can predict if a customer will buy again from the audiobook company."
   ]
  },
  {
   "cell_type": "markdown",
   "id": "52db7830",
   "metadata": {},
   "source": [
    "# Create the machine learning algorithm"
   ]
  },
  {
   "cell_type": "markdown",
   "id": "e02377e5",
   "metadata": {},
   "source": [
    "## Import the relevant libraries"
   ]
  },
  {
   "cell_type": "code",
   "execution_count": 1,
   "id": "13e7e5f3",
   "metadata": {},
   "outputs": [],
   "source": [
    "import numpy as np\n",
    "import tensorflow as tf"
   ]
  },
  {
   "cell_type": "markdown",
   "id": "f2c6100b",
   "metadata": {},
   "source": [
    "## Data"
   ]
  },
  {
   "cell_type": "code",
   "execution_count": 3,
   "id": "a4c5a5bf",
   "metadata": {},
   "outputs": [
    {
     "name": "stderr",
     "output_type": "stream",
     "text": [
      "C:\\Users\\Mendes\\anaconda3\\envs\\py3-TF2.0\\lib\\site-packages\\ipykernel_launcher.py:2: DeprecationWarning: `np.float` is a deprecated alias for the builtin `float`. To silence this warning, use `float` by itself. Doing this will not modify any behavior and is safe. If you specifically wanted the numpy scalar type, use `np.float64` here.\n",
      "Deprecated in NumPy 1.20; for more details and guidance: https://numpy.org/devdocs/release/1.20.0-notes.html#deprecations\n",
      "  \n",
      "C:\\Users\\Mendes\\anaconda3\\envs\\py3-TF2.0\\lib\\site-packages\\ipykernel_launcher.py:3: DeprecationWarning: `np.int` is a deprecated alias for the builtin `int`. To silence this warning, use `int` by itself. Doing this will not modify any behavior and is safe. When replacing `np.int`, you may wish to use e.g. `np.int64` or `np.int32` to specify the precision. If you wish to review your current use, check the release note link for additional information.\n",
      "Deprecated in NumPy 1.20; for more details and guidance: https://numpy.org/devdocs/release/1.20.0-notes.html#deprecations\n",
      "  This is separate from the ipykernel package so we can avoid doing imports until\n",
      "C:\\Users\\Mendes\\anaconda3\\envs\\py3-TF2.0\\lib\\site-packages\\ipykernel_launcher.py:6: DeprecationWarning: `np.float` is a deprecated alias for the builtin `float`. To silence this warning, use `float` by itself. Doing this will not modify any behavior and is safe. If you specifically wanted the numpy scalar type, use `np.float64` here.\n",
      "Deprecated in NumPy 1.20; for more details and guidance: https://numpy.org/devdocs/release/1.20.0-notes.html#deprecations\n",
      "  \n",
      "C:\\Users\\Mendes\\anaconda3\\envs\\py3-TF2.0\\lib\\site-packages\\ipykernel_launcher.py:6: DeprecationWarning: `np.int` is a deprecated alias for the builtin `int`. To silence this warning, use `int` by itself. Doing this will not modify any behavior and is safe. When replacing `np.int`, you may wish to use e.g. `np.int64` or `np.int32` to specify the precision. If you wish to review your current use, check the release note link for additional information.\n",
      "Deprecated in NumPy 1.20; for more details and guidance: https://numpy.org/devdocs/release/1.20.0-notes.html#deprecations\n",
      "  \n",
      "C:\\Users\\Mendes\\anaconda3\\envs\\py3-TF2.0\\lib\\site-packages\\ipykernel_launcher.py:9: DeprecationWarning: `np.float` is a deprecated alias for the builtin `float`. To silence this warning, use `float` by itself. Doing this will not modify any behavior and is safe. If you specifically wanted the numpy scalar type, use `np.float64` here.\n",
      "Deprecated in NumPy 1.20; for more details and guidance: https://numpy.org/devdocs/release/1.20.0-notes.html#deprecations\n",
      "  if __name__ == \"__main__\":\n",
      "C:\\Users\\Mendes\\anaconda3\\envs\\py3-TF2.0\\lib\\site-packages\\ipykernel_launcher.py:9: DeprecationWarning: `np.int` is a deprecated alias for the builtin `int`. To silence this warning, use `int` by itself. Doing this will not modify any behavior and is safe. When replacing `np.int`, you may wish to use e.g. `np.int64` or `np.int32` to specify the precision. If you wish to review your current use, check the release note link for additional information.\n",
      "Deprecated in NumPy 1.20; for more details and guidance: https://numpy.org/devdocs/release/1.20.0-notes.html#deprecations\n",
      "  if __name__ == \"__main__\":\n"
     ]
    }
   ],
   "source": [
    "npz=np.load('Audiobooks_data_train.npz')\n",
    "train_inputs=npz['inputs'].astype(np.float)\n",
    "train_targets=npz['targets'].astype(np.int)\n",
    "\n",
    "npz=np.load('Audiobooks_data_validation.npz')\n",
    "validation_inputs, validation_targets =npz['inputs'].astype(np.float), npz['targets'].astype(np.int)\n",
    "\n",
    "npz=np.load('Audiobooks_data_test.npz')\n",
    "test_inputs, test_targets =npz['inputs'].astype(np.float), npz['targets'].astype(np.int)"
   ]
  },
  {
   "cell_type": "markdown",
   "id": "094f6db8",
   "metadata": {},
   "source": [
    "## Model"
   ]
  },
  {
   "cell_type": "markdown",
   "id": "254b13f9",
   "metadata": {},
   "source": [
    "Outline, optimizers, loss, early stopping and training"
   ]
  },
  {
   "cell_type": "code",
   "execution_count": 9,
   "id": "82c2744a",
   "metadata": {},
   "outputs": [
    {
     "name": "stdout",
     "output_type": "stream",
     "text": [
      "Epoch 1/100\n",
      "36/36 - 1s - loss: 0.5412 - accuracy: 0.7709 - val_loss: 0.4292 - val_accuracy: 0.8747 - 628ms/epoch - 17ms/step\n",
      "Epoch 2/100\n",
      "36/36 - 0s - loss: 0.3640 - accuracy: 0.8745 - val_loss: 0.3175 - val_accuracy: 0.8993 - 111ms/epoch - 3ms/step\n",
      "Epoch 3/100\n",
      "36/36 - 0s - loss: 0.3206 - accuracy: 0.8826 - val_loss: 0.2830 - val_accuracy: 0.9016 - 106ms/epoch - 3ms/step\n",
      "Epoch 4/100\n",
      "36/36 - 0s - loss: 0.3017 - accuracy: 0.8894 - val_loss: 0.2621 - val_accuracy: 0.9105 - 109ms/epoch - 3ms/step\n",
      "Epoch 5/100\n",
      "36/36 - 0s - loss: 0.2902 - accuracy: 0.8933 - val_loss: 0.2494 - val_accuracy: 0.9150 - 113ms/epoch - 3ms/step\n",
      "Epoch 6/100\n",
      "36/36 - 0s - loss: 0.2805 - accuracy: 0.8949 - val_loss: 0.2404 - val_accuracy: 0.9217 - 96ms/epoch - 3ms/step\n",
      "Epoch 7/100\n",
      "36/36 - 0s - loss: 0.2741 - accuracy: 0.8963 - val_loss: 0.2318 - val_accuracy: 0.9262 - 101ms/epoch - 3ms/step\n",
      "Epoch 8/100\n",
      "36/36 - 0s - loss: 0.2707 - accuracy: 0.8989 - val_loss: 0.2279 - val_accuracy: 0.9284 - 90ms/epoch - 2ms/step\n",
      "Epoch 9/100\n",
      "36/36 - 0s - loss: 0.2659 - accuracy: 0.9000 - val_loss: 0.2233 - val_accuracy: 0.9306 - 105ms/epoch - 3ms/step\n",
      "Epoch 10/100\n",
      "36/36 - 0s - loss: 0.2627 - accuracy: 0.8994 - val_loss: 0.2239 - val_accuracy: 0.9284 - 90ms/epoch - 3ms/step\n",
      "Epoch 11/100\n",
      "36/36 - 0s - loss: 0.2576 - accuracy: 0.9011 - val_loss: 0.2260 - val_accuracy: 0.9262 - 96ms/epoch - 3ms/step\n"
     ]
    },
    {
     "data": {
      "text/plain": [
       "<keras.callbacks.History at 0x126cfdc8>"
      ]
     },
     "execution_count": 9,
     "metadata": {},
     "output_type": "execute_result"
    }
   ],
   "source": [
    "input_size=10\n",
    "output_size=2  #buy or not buy\n",
    "hidden_layer_size=50\n",
    "\n",
    "model=tf.keras.Sequential([\n",
    "                            tf.keras.layers.Dense(hidden_layer_size,activation='relu'),\n",
    "                            tf.keras.layers.Dense(hidden_layer_size,activation='relu'),\n",
    "                            tf.keras.layers.Dense(output_size,activation='softmax')\n",
    "                            ])\n",
    "\n",
    "model.compile(optimizer='adam',loss='sparse_categorical_crossentropy',metrics=['accuracy'])\n",
    "\n",
    "batch_size=100\n",
    "max_epochs=100\n",
    "early_stopping=tf.keras.callbacks.EarlyStopping(patience=2) #this object will monitor the validation loss and stop the training \n",
    "#process the 1st time the validation loss starts increasing. With patience=2, it will let wait for the second time.\n",
    "\n",
    "model.fit(train_inputs,train_targets,\n",
    "          batch_size=batch_size,epochs=max_epochs,callbacks=[early_stopping],\n",
    "          validation_data=(validation_inputs,validation_targets),\n",
    "          verbose=2)\n"
   ]
  },
  {
   "cell_type": "markdown",
   "id": "2b5fd223",
   "metadata": {},
   "source": [
    "So far, we took raw data:\n",
    "1. Which should not make a lot of sense to anyone who is not in this business\n",
    "2. Where many variables were binary\n",
    "3. Had missing values\n",
    "4. Where the orders of magnitude had nothing in common.\n",
    "\n",
    "Transformed in a model that makes sense."
   ]
  },
  {
   "cell_type": "markdown",
   "id": "977f01f7",
   "metadata": {},
   "source": [
    "## Test the model"
   ]
  },
  {
   "cell_type": "code",
   "execution_count": 10,
   "id": "65987518",
   "metadata": {},
   "outputs": [
    {
     "name": "stdout",
     "output_type": "stream",
     "text": [
      "14/14 [==============================] - 0s 9ms/step - loss: 0.2456 - accuracy: 0.8973\n"
     ]
    }
   ],
   "source": [
    "test_loss, test_accuracy = model.evaluate(test_inputs,test_targets)"
   ]
  },
  {
   "cell_type": "code",
   "execution_count": 11,
   "id": "948e60a3",
   "metadata": {},
   "outputs": [
    {
     "name": "stdout",
     "output_type": "stream",
     "text": [
      "\n",
      "Test loss: 0.25. Test accuracy: 89.73%\n"
     ]
    }
   ],
   "source": [
    "print('\\nTest loss: {0:.2f}. Test accuracy: {1:.2f}%'.format(test_loss,test_accuracy*100.))"
   ]
  },
  {
   "cell_type": "markdown",
   "id": "961ba65d",
   "metadata": {},
   "source": [
    "Theoretically the test accuracy should be lower or equal to the validation accuracy."
   ]
  },
  {
   "cell_type": "code",
   "execution_count": null,
   "id": "57f2d63c",
   "metadata": {},
   "outputs": [],
   "source": []
  }
 ],
 "metadata": {
  "kernelspec": {
   "display_name": "Python 3 (ipykernel)",
   "language": "python",
   "name": "python3"
  },
  "language_info": {
   "codemirror_mode": {
    "name": "ipython",
    "version": 3
   },
   "file_extension": ".py",
   "mimetype": "text/x-python",
   "name": "python",
   "nbconvert_exporter": "python",
   "pygments_lexer": "ipython3",
   "version": "3.7.12"
  }
 },
 "nbformat": 4,
 "nbformat_minor": 5
}
