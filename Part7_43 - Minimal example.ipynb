{
 "cells": [
  {
   "cell_type": "markdown",
   "metadata": {},
   "source": [
    "# Simple Linear Regression. Minimal example"
   ]
  },
  {
   "cell_type": "markdown",
   "metadata": {},
   "source": [
    "## Import the relevant libraries"
   ]
  },
  {
   "cell_type": "code",
   "execution_count": 1,
   "metadata": {},
   "outputs": [],
   "source": [
    "import numpy as np\n",
    "import matplotlib.pyplot as plt\n",
    "from mpl_toolkits.mplot3d import Axes3D"
   ]
  },
  {
   "cell_type": "markdown",
   "metadata": {},
   "source": [
    "## Generate random input data to train on"
   ]
  },
  {
   "cell_type": "code",
   "execution_count": 2,
   "metadata": {},
   "outputs": [
    {
     "name": "stdout",
     "output_type": "stream",
     "text": [
      "(10000, 2)\n"
     ]
    }
   ],
   "source": [
    "observations=10000\n",
    "xs=np.random.uniform(low=-10,high=10,size=(observations,1))\n",
    "zs=np.random.uniform(-10,10,(observations,1))\n",
    "\n",
    "inputs=np.column_stack((xs,zs))\n",
    "\n",
    "print(inputs.shape)"
   ]
  },
  {
   "cell_type": "markdown",
   "metadata": {},
   "source": [
    "## Create the targets we will aim at"
   ]
  },
  {
   "cell_type": "code",
   "execution_count": 3,
   "metadata": {},
   "outputs": [
    {
     "name": "stdout",
     "output_type": "stream",
     "text": [
      "(10000, 1)\n"
     ]
    }
   ],
   "source": [
    "noise=np.random.uniform(-1,1,(observations,1))\n",
    "targets=2*xs-3*zs+5+noise\n",
    "print(targets.shape)"
   ]
  },
  {
   "cell_type": "markdown",
   "metadata": {},
   "source": [
    "## Plot the training data"
   ]
  },
  {
   "cell_type": "markdown",
   "metadata": {},
   "source": [
    "The point is to see that there is a strong trend that our model should learn to reproduce."
   ]
  },
  {
   "cell_type": "code",
   "execution_count": 4,
   "metadata": {},
   "outputs": [
    {
     "data": {
      "image/png": "[encoded data removed]",
      "text/plain": [
       "<Figure size 432x288 with 1 Axes>"
      ]
     },
     "metadata": {
      "needs_background": "light"
     },
     "output_type": "display_data"
    }
   ],
   "source": [
    "targets=targets.reshape(observations,)\n",
    "fig=plt.figure()\n",
    "ax=fig.add_subplot(111,projection='3d')\n",
    "ax.plot(xs,zs,targets)\n",
    "ax.set_xlabel('xs')\n",
    "ax.set_ylabel('zs')\n",
    "ax.set_zlabel('Targets')\n",
    "ax.view_init(azim=100)\n",
    "plt.show()\n",
    "targets=targets.reshape(observations,1)"
   ]
  },
  {
   "cell_type": "markdown",
   "metadata": {},
   "source": [
    "## Initialize variables"
   ]
  },
  {
   "cell_type": "code",
   "execution_count": 5,
   "metadata": {},
   "outputs": [
    {
     "name": "stdout",
     "output_type": "stream",
     "text": [
      "[[0.02383785]\n",
      " [0.01520274]]\n",
      "[0.05368594]\n"
     ]
    }
   ],
   "source": [
    "init_range=0.1  #our initial weights and biases will be picked randomly from the interval [-0.1,0.1]\n",
    "weights=np.random.uniform(-init_range,init_range,size=(2,1))\n",
    "biases=np.random.uniform(-init_range,init_range,size=(1))\n",
    "print(weights)\n",
    "print(biases)"
   ]
  },
  {
   "cell_type": "markdown",
   "metadata": {},
   "source": [
    "## Set a learning rate"
   ]
  },
  {
   "cell_type": "code",
   "execution_count": 6,
   "metadata": {},
   "outputs": [],
   "source": [
    "learning_rate=0.001"
   ]
  },
  {
   "cell_type": "markdown",
   "metadata": {},
   "source": [
    "## Train the model"
   ]
  },
  {
   "cell_type": "markdown",
   "metadata": {},
   "source": [
    "Plan for each iteration:\n",
    "- First, it calculates the outputs for given weights and biases.\n",
    "- Second, it calculates a loss function that compares the outputs to the targets. \n",
    "- Third, it prints the loss so we can later analyze it.\n",
    "- Fourth, adjust the weights and the bias is following the gradient descent methodology."
   ]
  },
  {
   "cell_type": "code",
   "execution_count": 7,
   "metadata": {},
   "outputs": [
    {
     "name": "stdout",
     "output_type": "stream",
     "text": [
      "230.0540819179025\n",
      "215.73838425679375\n",
      "202.36124510322938\n",
      "189.8610087643264\n",
      "178.18007157932357\n",
      "167.26461551715855\n",
      "157.06435929535525\n",
      "147.53232586741433\n",
      "138.62462520177894\n",
      "130.30025134632496\n",
      "122.52089283854049\n",
      "115.25075558341257\n",
      "108.4563973788202\n",
      "102.1065733222113\n",
      "96.17209138276456\n",
      "90.62567747034166\n",
      "85.44184937653934\n",
      "80.59679900425668\n",
      "76.06828234059499\n",
      "71.83551666377971\n",
      "67.87908450830628\n",
      "64.18084394381745\n",
      "60.723844752465105\n",
      "57.49225011682999\n",
      "54.47126345599515\n",
      "51.64706007121141\n",
      "49.006723284866446\n",
      "46.538184777276705\n",
      "44.23016884525947\n",
      "42.07214032460131\n",
      "40.05425593550307\n",
      "38.16731882592921\n",
      "36.40273610259421\n",
      "34.7524791531491\n",
      "33.209046576051925\n",
      "31.76542954667628\n",
      "30.41507945948821\n",
      "29.151877696655983\n",
      "27.970107383298608\n",
      "26.864426998772366\n",
      "25.82984572198378\n",
      "24.861700396741096\n",
      "23.955634010652172\n",
      "23.107575588079726\n",
      "22.313721404206873\n",
      "21.57051743337769\n",
      "20.87464295058733\n",
      "20.22299521033034\n",
      "19.612675131999247\n",
      "19.040973925680884\n",
      "18.50536059654723\n",
      "18.003470270101097\n",
      "17.533093284332505\n",
      "17.092164998388412\n",
      "16.67875627067148\n",
      "16.291064562378487\n",
      "15.927405625381198\n",
      "15.586205736053694\n",
      "15.265994439174042\n",
      "14.965397768386316\n",
      "14.683131911911632\n",
      "14.417997294255\n",
      "14.168873046577433\n",
      "13.93471184019904\n",
      "13.714535059377095\n",
      "13.507428291070752\n",
      "13.312537110868957\n",
      "13.12906314562656\n",
      "12.956260394632071\n",
      "12.793431792324984\n",
      "12.639925996696524\n",
      "12.495134388550282\n",
      "12.358488267773057\n",
      "12.229456233676498\n",
      "12.10754173732017\n",
      "11.992280794520898\n",
      "11.883239848995565\n",
      "11.780013775777741\n",
      "11.682224015696143\n",
      "11.589516832308451\n",
      "11.501561683249019\n",
      "11.418049698477603\n",
      "11.338692258409504\n",
      "11.263219665368876\n",
      "11.191379902237479\n",
      "11.122937472573916\n",
      "11.0576723168542\n",
      "10.995378799836038\n",
      "10.935864764377321\n",
      "10.878950647346041\n",
      "10.824468653545429\n",
      "10.772261983845723\n",
      "10.7221841139642\n",
      "10.674098120568704\n",
      "10.627876051598266\n",
      "10.583398337898423\n",
      "10.540553243459394\n",
      "10.499236351723379\n",
      "10.459350085593588\n",
      "10.420803258933033\n"
     ]
    }
   ],
   "source": [
    "for i in range (100):\n",
    " outputs = np.dot(inputs,weights)+biases  #y=xw+b\n",
    " deltas = outputs - targets  # records the difference between outputs and targets, usefull as it's part of the update rule \n",
    "\n",
    " loss=np.sum(deltas**2)/2/observations   #calculate the L2-norm loss/2 and divide but the number of observations, giving the average loss per observation, which makes the learning independent of the number of observations.\n",
    "\n",
    " print (loss)  #print the loss at each step so observe whether it is decreasing as iterations are being performed. If so, our machine learning algorithm functions well.\n",
    "\n",
    " deltas_scaled=deltas/observations #Update the weights and biases so they are ready for the next iteration\n",
    "\n",
    " weights=weights-learning_rate*np.dot(inputs.T,deltas_scaled)\n",
    " biases=biases-learning_rate*np.sum(deltas_scaled)  #update the biases\n",
    "\n"
   ]
  },
  {
   "cell_type": "markdown",
   "metadata": {},
   "source": [
    "What we get is a list of numbers that appears to be in descending order. At each iteration it became lower and lower until it reached a point where it almost stopped changing. This means we have minimized or almost minimized the loss function with respect to the weights and biases. Therefore, we have found a linear function that fits the model well."
   ]
  },
  {
   "cell_type": "markdown",
   "metadata": {},
   "source": [
    "## Print weights and biases and see if we have worked correctly."
   ]
  },
  {
   "cell_type": "code",
   "execution_count": 8,
   "metadata": {},
   "outputs": [
    {
     "name": "stdout",
     "output_type": "stream",
     "text": [
      "[[ 1.93010065]\n",
      " [-2.90847992]] [0.52793769]\n"
     ]
    }
   ],
   "source": [
    "print(weights,biases)"
   ]
  },
  {
   "cell_type": "markdown",
   "metadata": {},
   "source": [
    "The sought dependece was:\n",
    "\n",
    "t=f(xs,zs)=2*xs-3zs+5+noise"
   ]
  },
  {
   "cell_type": "markdown",
   "metadata": {},
   "source": [
    "## Plot last outputs vs targets"
   ]
  },
  {
   "cell_type": "markdown",
   "metadata": {},
   "source": [
    "Since they are the last ones at the end of the training, they represent the final model accuracy.\n",
    "\n",
    "The closer this plot is to a 45 degree line, the closer target and output values are."
   ]
  },
  {
   "cell_type": "code",
   "execution_count": 9,
   "metadata": {},
   "outputs": [
    {
     "data": {
      "image/png": "[encoded data removed]",
      "text/plain": [
       "<Figure size 432x288 with 1 Axes>"
      ]
     },
     "metadata": {
      "needs_background": "light"
     },
     "output_type": "display_data"
    }
   ],
   "source": [
    "plt.plot(outputs,targets)\n",
    "plt.xlabel('outputs')\n",
    "plt.ylabel('targets')\n",
    "plt.xlim([-50,60])\n",
    "plt.ylim([-50,60])\n",
    "plt.show()"
   ]
  },
  {
   "cell_type": "code",
   "execution_count": null,
   "metadata": {},
   "outputs": [],
   "source": []
  }
 ],
 "metadata": {
  "kernelspec": {
   "display_name": "Python 3",
   "language": "python",
   "name": "python3"
  },
  "language_info": {
   "codemirror_mode": {
    "name": "ipython",
    "version": 3
   },
   "file_extension": ".py",
   "mimetype": "text/x-python",
   "name": "python",
   "nbconvert_exporter": "python",
   "pygments_lexer": "ipython3",
   "version": "3.7.6"
  }
 },
 "nbformat": 4,
 "nbformat_minor": 4
}
